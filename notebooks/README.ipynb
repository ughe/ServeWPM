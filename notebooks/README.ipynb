{
 "cells": [
  {
   "cell_type": "markdown",
   "metadata": {},
   "source": [
    "# ServeWPM Tutorial\n",
    "ServeWPM is a docker image for running [OpenWPM](https://github.com/citp/OpenWPM)."
   ]
  },
  {
   "cell_type": "markdown",
   "metadata": {},
   "source": [
    "### Running Cells \n",
    "To run a cell select it and type **shift-enter** or by select the `Run` button in the menu. A star to the left of the cell like `[*]` indicates that the cell is currently running."
   ]
  },
  {
   "cell_type": "markdown",
   "metadata": {},
   "source": [
    "### Project Settings\n",
    "First, get ready to import the OpenWPM files by adding them to the path. `Run` each Python cell to execute it."
   ]
  },
  {
   "cell_type": "code",
   "execution_count": null,
   "metadata": {},
   "outputs": [],
   "source": [
    "import sys\n",
    "import os\n",
    "sys.path.insert(0, os.environ['FRAMEWORK'])"
   ]
  },
  {
   "cell_type": "markdown",
   "metadata": {},
   "source": [
    "Next, set the project name without quotes. In this case, `demo` is the PROJECT_NAME."
   ]
  },
  {
   "cell_type": "code",
   "execution_count": null,
   "metadata": {},
   "outputs": [],
   "source": [
    "%env PROJECT_NAME demo\n",
    "PROJECT_NAME = os.environ['PROJECT_NAME']"
   ]
  },
  {
   "cell_type": "markdown",
   "metadata": {},
   "source": [
    "# Run OpenWPM Example\n",
    "First, run a version of the `demo.py` example from OpenWPM below. \n",
    "\n",
    "The import and project name statements are included below so that the example below could run as a standalone python file.\n",
    "\n",
    "Notes: The `%%time` command tells Jupyter to time this cell block. The output directory is already specified as the `$PROJECT_NAME/` dir with the line: `manager_params['data_directory'] = os.environ['NOTEBOOKS'] + '/' + PROJECT_NAME`. The OpenWPM imports here are `TaskManager` and `CommandSequence`."
   ]
  },
  {
   "cell_type": "code",
   "execution_count": null,
   "metadata": {},
   "outputs": [],
   "source": [
    "%%time\n",
    "from __future__ import absolute_import\n",
    "from six.moves import range\n",
    "import sys\n",
    "import os\n",
    "sys.path.insert(0, os.environ['FRAMEWORK'])\n",
    "from automation import TaskManager, CommandSequence\n",
    "\n",
    "# The local output directory\n",
    "PROJECT_NAME = os.environ['PROJECT_NAME']\n",
    "\n",
    "# The list of sites that we wish to crawl\n",
    "NUM_BROWSERS = 3\n",
    "sites = ['http://www.example.com',\n",
    "         'http://www.princeton.edu',\n",
    "         'http://citp.princeton.edu/']\n",
    "\n",
    "# Loads the manager preference and 3 copies of the default browser dictionaries\n",
    "manager_params, browser_params = TaskManager.load_default_params(NUM_BROWSERS)\n",
    "\n",
    "# Update browser configuration (use this for per-browser settings)\n",
    "for i in range(NUM_BROWSERS):\n",
    "    # Record HTTP Requests and Responses\n",
    "    browser_params[i]['http_instrument'] = True\n",
    "    # Enable flash for all three browsers\n",
    "    browser_params[i]['disable_flash'] = False\n",
    "browser_params[0]['headless'] = True  # Launch only browser 0 headless\n",
    "\n",
    "# Update TaskManager configuration (use this for crawl-wide settings)\n",
    "manager_params['data_directory'] = os.environ['NOTEBOOKS'] + '/' + PROJECT_NAME\n",
    "manager_params['log_directory'] = os.environ['NOTEBOOKS'] + '/' + PROJECT_NAME\n",
    "\n",
    "# Instantiates the measurement platform\n",
    "# Commands time out by default after 60 seconds\n",
    "manager = TaskManager.TaskManager(manager_params, browser_params)\n",
    "\n",
    "# Visits the sites with all browsers simultaneously\n",
    "for site in sites:\n",
    "    command_sequence = CommandSequence.CommandSequence(site)\n",
    "\n",
    "    # Start by visiting the page\n",
    "    command_sequence.get(sleep=0, timeout=60)\n",
    "\n",
    "    # dump_profile_cookies/dump_flash_cookies closes the current tab.\n",
    "    command_sequence.dump_profile_cookies(120)\n",
    "\n",
    "    # index='**' synchronizes visits between the three browsers\n",
    "    manager.execute_command_sequence(command_sequence, index='**')\n",
    "\n",
    "# Shuts down the browsers and waits for the data to finish logging\n",
    "manager.close()"
   ]
  },
  {
   "cell_type": "markdown",
   "metadata": {},
   "source": [
    "### Expected output\n",
    "The resulting output should look something like this when it finishes:\n",
    "```\n",
    "...\n",
    "BrowserManager       - INFO     - BROWSER 3: EXECUTING COMMAND: ('DUMP_PROFILE_COOKIES', 1508454416.26996, 8)\n",
    "BrowserManager       - INFO     - BROWSER 1: EXECUTING COMMAND: ('DUMP_PROFILE_COOKIES', 1508454416.269908, 7)\n",
    "CPU times: user 180 ms, sys: 100 ms, total: 280 ms\n",
    "Wall time: 39 s\n",
    "```"
   ]
  },
  {
   "cell_type": "markdown",
   "metadata": {},
   "source": [
    "# Querying The Database\n",
    "The output files are in the local `$PROJECT_NAME/` dir and include: `openwpm.log`, `crawl-data.sqlite`, `screenshots`, and `sources`."
   ]
  },
  {
   "cell_type": "markdown",
   "metadata": {},
   "source": [
    "## Using Django\n",
    "There is a Django app setup to import the type of `crawl-data.sqlite` structure. The app is called `export` and has a read only connection to `export/crawl-data.sqlite`.\n",
    "\n",
    "First, copy the `crawl-data.sqlite` output file from `$PROJECT_NAME` to `export` using bash:"
   ]
  },
  {
   "cell_type": "code",
   "execution_count": null,
   "metadata": {},
   "outputs": [],
   "source": [
    "!cp $PROJECT_NAME/crawl-data.sqlite export/crawl-data.sqlite"
   ]
  },
  {
   "cell_type": "markdown",
   "metadata": {},
   "source": [
    "Next, import the modules:"
   ]
  },
  {
   "cell_type": "code",
   "execution_count": null,
   "metadata": {},
   "outputs": [],
   "source": [
    "from export.models import (\n",
    "    Crawl,\n",
    "    Crawlhistory,\n",
    "    FlashCookies,\n",
    "    HttpRequests,\n",
    "    HttpResponses,\n",
    "    Localstorage,\n",
    "    ProfileCookies,\n",
    "    SiteVisits,\n",
    "    Task,\n",
    "    Xpath,\n",
    ")"
   ]
  },
  {
   "cell_type": "markdown",
   "metadata": {},
   "source": [
    "Finally, use the Django ORM (object-relational-model) to inspect each object created from each table (i.e. `SiteVisits` as below):"
   ]
  },
  {
   "cell_type": "code",
   "execution_count": null,
   "metadata": {},
   "outputs": [],
   "source": [
    "visits = SiteVisits.objects.all()\n",
    "v = visits[0]\n",
    "v.__dict__"
   ]
  },
  {
   "cell_type": "markdown",
   "metadata": {},
   "source": [
    "For more on Django's ORM, there is extensive documentation: https://docs.djangoproject.com/en/dev/topics/db/queries/#retrieving-objects"
   ]
  },
  {
   "cell_type": "markdown",
   "metadata": {},
   "source": [
    "### Using Sqlite3\n",
    "You can also, of course, use `sqlite3` or other scripts to analyze the data in `$PROJECT_NAME/crawl-data.json`.\n",
    "\n",
    "First, connect to the database:"
   ]
  },
  {
   "cell_type": "code",
   "execution_count": null,
   "metadata": {},
   "outputs": [],
   "source": [
    "import sqlite3\n",
    "rel_path = 'PROJECT_PATH/crawl-data.sqlite'\n",
    "db = sqlite3.connect(rel_path)\n",
    "cursor = db.cursor()"
   ]
  },
  {
   "cell_type": "markdown",
   "metadata": {},
   "source": [
    "Then have fun:"
   ]
  },
  {
   "cell_type": "code",
   "execution_count": null,
   "metadata": {},
   "outputs": [],
   "source": [
    "cursor.execute(\"SELECT name FROM sqlite_master WHERE type='table';\")\n",
    "tables = list(zip(*cursor.fetchall())[0])\n",
    "print(tables)\n",
    "\n",
    "pairs = []\n",
    "for table in tables:\n",
    "    cursor.execute(\"SELECT * from {}\".format(table))\n",
    "    elements = cursor.fetchall()\n",
    "    pairs.append((table, elements))\n",
    "\n",
    "print(pairs[1])"
   ]
  },
  {
   "cell_type": "markdown",
   "metadata": {},
   "source": [
    "# Serving Django\n",
    "Django isn't just a great ORM, it also is a webserver. Although it is not running right now, it can be started from here. \n",
    "\n",
    "First, create a superuser, or admin. There is an example password below."
   ]
  },
  {
   "cell_type": "code",
   "execution_count": null,
   "metadata": {},
   "outputs": [],
   "source": [
    "from django.contrib.auth.models import User\n",
    "User.objects.create_superuser('admin', 'admin@example.com', 'synthetics1126599/commencements')"
   ]
  },
  {
   "cell_type": "markdown",
   "metadata": {},
   "source": [
    "Next"
   ]
  },
  {
   "cell_type": "code",
   "execution_count": null,
   "metadata": {},
   "outputs": [],
   "source": [
    "!gunicorn ServeWPM.wsgi:application --bind 0.0.0.0:8000 --workers 3"
   ]
  },
  {
   "cell_type": "markdown",
   "metadata": {},
   "source": [
    "Finally, log in to port 8000 as the superuser. So if this is run on localhost, go to [http:127.0.0.1:8000/](http:127.0.0.1:8000/).\n"
   ]
  },
  {
   "cell_type": "markdown",
   "metadata": {},
   "source": [
    "# Troubleshooting\n",
    "If the OpenWPM script fails, try starting firefox by itself:"
   ]
  },
  {
   "cell_type": "code",
   "execution_count": null,
   "metadata": {},
   "outputs": [],
   "source": [
    "from selenium import webdriver\n",
    "browser = webdriver.Firefox()\n",
    "browser.get('http://www.princeton.edu')\n",
    "browser.quit()"
   ]
  },
  {
   "cell_type": "markdown",
   "metadata": {},
   "source": [
    "# That's It!"
   ]
  }
 ],
 "metadata": {
  "kernelspec": {
   "display_name": "Django Shell-Plus",
   "language": "python",
   "name": "django_extensions"
  },
  "language_info": {
   "codemirror_mode": {
    "name": "ipython",
    "version": 2
   },
   "file_extension": ".py",
   "mimetype": "text/x-python",
   "name": "python",
   "nbconvert_exporter": "python",
   "pygments_lexer": "ipython2",
   "version": "2.7.6"
  }
 },
 "nbformat": 4,
 "nbformat_minor": 2
}
