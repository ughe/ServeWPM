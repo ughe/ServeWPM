{
 "cells": [
  {
   "cell_type": "markdown",
   "metadata": {},
   "source": [
    "# Getting Started\n",
    "Run the `demo.py` file below. The output will be stored in the `demo` folder."
   ]
  },
  {
   "cell_type": "code",
   "execution_count": 0,
   "metadata": {},
   "outputs": [],
   "source": [
    "PROJECT_NAME = 'demo'\n"
    "%env PROJECT_NAME demo"
   ]
  },
  {
   "cell_type": "code",
   "execution_count": 0,
   "metadata": {},
   "outputs": [
    {
     "name": "stdout",
     "output_type": "stream",
     "text": [
     ]
    }
   ],
   "source": [
    "%%time\n",
    "from __future__ import absolute_import\n",
    "from six.moves import range\n",
    "import sys\n",
    "import os\n",
    "sys.path.insert(0, os.environ['FRAMEWORK'])\n",
    "from automation import TaskManager, CommandSequence\n",
    "\n",
    "# The list of sites that we wish to crawl\n",
    "NUM_BROWSERS = 3\n",
    "sites = ['http://www.example.com',\n",
    "         'http://www.princeton.edu',\n",
    "         'http://citp.princeton.edu/']\n",
    "\n",
    "# Loads the manager preference and 3 copies of the default browser dictionaries\n",
    "manager_params, browser_params = TaskManager.load_default_params(NUM_BROWSERS)\n",
    "\n",
    "# Update browser configuration (use this for per-browser settings)\n",
    "for i in range(NUM_BROWSERS):\n",
    "    # Record HTTP Requests and Responses\n",
    "    browser_params[i]['http_instrument'] = True\n",
    "    # Enable flash for all three browsers\n",
    "    browser_params[i]['disable_flash'] = False\n",
    "browser_params[0]['headless'] = True  # Launch only browser 0 headless\n",
    "\n",
    "# Update TaskManager configuration (use this for crawl-wide settings)\n",
    "manager_params['data_directory'] = os.environ['NOTEBOOKS'] + '/' + PROJECT_NAME\n",
    "manager_params['log_directory'] = os.environ['NOTEBOOKS'] + '/' + PROJECT_NAME\n",
    "\n",
    "# Instantiates the measurement platform\n",
    "# Commands time out by default after 60 seconds\n",
    "manager = TaskManager.TaskManager(manager_params, browser_params)\n",
    "\n",
    "# Visits the sites with all browsers simultaneously\n",
    "for site in sites:\n",
    "    command_sequence = CommandSequence.CommandSequence(site)\n",
    "\n",
    "    # Start by visiting the page\n",
    "    command_sequence.get(sleep=0, timeout=60)\n",
    "\n",
    "    # dump_profile_cookies/dump_flash_cookies closes the current tab.\n",
    "    command_sequence.dump_profile_cookies(120)\n",
    "\n",
    "    # index='**' synchronizes visits between the three browsers\n",
    "    manager.execute_command_sequence(command_sequence, index='**')\n",
    "\n",
    "# Shuts down the browsers and waits for the data to finish logging\n",
    "manager.close()\n"
   ]
  },
  {
   "cell_type": "markdown",
   "metadata": {},
   "source": [
    "# Convert & Save to Django ORM\n",
    "The next step, with the imported sqlite file, is to save it to django."
   ]
  {
   "cell_type": "code",
   "execution_count": 89,
   "metadata": {},
   "outputs": [],
   "source": [
    "!cp $PROJECT_NAME/crawl-data.sqlite export/crawl-data.sqlite\n",
    "!python $JUPYTER_CONFIG_DIR/manage.py inspectdb --database=\"export\" \\\n",
    "    > $JUPYTER_CONFIG_DIR/export/models.py"
   ]
  },
  {
   "cell_type": "code",
   "execution_count": 0,
   "metadata": {},
   "outputs": [],
   "source": [
    "from data.models import (\n",
    "    Crawl,\n",
    "    Crawlhistory,\n",
    "    FlashCookie,\n",
    "    HttpRequest,\n",
    "    HttpResponse,\n",
    "    Localstorage,\n",
    "    ProfileCookie,\n",
    "    SiteVisit,\n",
    "    Task,\n",
    "    Xpath,\n",
    ")",
   ]
  },
  {
   "cell_type": "markdown",
   "metadata": {},
   "source": [
    "# Importing the data"
   ]
  },
  {
   "cell_type": "code",
   "execution_count": 0,
   "metadata": {},
   "outputs": [],
   "source": [
    "import sqlite3\n",
    "rel_path = PROJECT_NAME + '/crawl-data.sqlite'\n",
    "db = sqlite3.connect(rel_path)\n",
    "cursor = db.cursor()"
   ]
  },
  {
   "cell_type": "code",
   "execution_count": 0,
   "metadata": {},
   "outputs": [
    {
     "name": "stdout",
     "output_type": "stream",
     "text": [
     ]
    }
   ],
   "source": [
    "cursor.execute(\"SELECT name FROM sqlite_master WHERE type='table';\")\n",
    "tables = list(zip(*cursor.fetchall())[0])\n",
    "print(tables)"
   ]
  },
  {
   "cell_type": "code",
   "execution_count": 0,
   "metadata": {},
   "outputs": [],
   "source": [
    "pairs = []\n",
    "for t in tables:\n",
    "    cursor.execute(\"SELECT * from {}\".format(t))\n",
    "    elements = cursor.fetchall()\n",
    "    pairs.append((t, elements))"
   ]
  },
  {
   "cell_type": "code",
   "execution_count": 0,
   "metadata": {},
   "outputs": [],
   "source": [
    "pairs[1]"
   ]
  },
 ],
 "metadata": {
  "kernelspec": {
   "display_name": "Django Shell-Plus",
   "language": "python",
   "name": "django_extensions"
  },
  "language_info": {
   "codemirror_mode": {
    "name": "ipython",
    "version": 2
   },
   "file_extension": ".py",
   "mimetype": "text/x-python",
   "name": "python",
   "nbconvert_exporter": "python",
   "pygments_lexer": "ipython2",
   "version": "2.7.6"
  }
 },
 "nbformat": 4,
 "nbformat_minor": 2
}
